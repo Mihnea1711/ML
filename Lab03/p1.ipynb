{
 "cells": [
  {
   "cell_type": "code",
   "outputs": [],
   "source": [
    "import pandas as pd"
   ],
   "metadata": {
    "collapsed": false,
    "ExecuteTime": {
     "end_time": "2024-03-07T08:39:57.815303Z",
     "start_time": "2024-03-07T08:39:57.808481Z"
    }
   },
   "id": "97d2cf1c7bdebdac",
   "execution_count": 43
  },
  {
   "cell_type": "code",
   "outputs": [
    {
     "data": {
      "text/plain": "  Starea vremii Temperatura Umiditate     Vant Joc\n0         Soare        Mare      Mare   Absent  Nu\n1         Soare        Mare      Mare  Prezent  Nu\n2       Innorat        Mare      Mare   Absent  Da\n3        Ploaie       Medie      Mare   Absent  Da\n4        Ploaie        Mica   Normala   Absent  Da",
      "text/html": "<div>\n<style scoped>\n    .dataframe tbody tr th:only-of-type {\n        vertical-align: middle;\n    }\n\n    .dataframe tbody tr th {\n        vertical-align: top;\n    }\n\n    .dataframe thead th {\n        text-align: right;\n    }\n</style>\n<table border=\"1\" class=\"dataframe\">\n  <thead>\n    <tr style=\"text-align: right;\">\n      <th></th>\n      <th>Starea vremii</th>\n      <th>Temperatura</th>\n      <th>Umiditate</th>\n      <th>Vant</th>\n      <th>Joc</th>\n    </tr>\n  </thead>\n  <tbody>\n    <tr>\n      <th>0</th>\n      <td>Soare</td>\n      <td>Mare</td>\n      <td>Mare</td>\n      <td>Absent</td>\n      <td>Nu</td>\n    </tr>\n    <tr>\n      <th>1</th>\n      <td>Soare</td>\n      <td>Mare</td>\n      <td>Mare</td>\n      <td>Prezent</td>\n      <td>Nu</td>\n    </tr>\n    <tr>\n      <th>2</th>\n      <td>Innorat</td>\n      <td>Mare</td>\n      <td>Mare</td>\n      <td>Absent</td>\n      <td>Da</td>\n    </tr>\n    <tr>\n      <th>3</th>\n      <td>Ploaie</td>\n      <td>Medie</td>\n      <td>Mare</td>\n      <td>Absent</td>\n      <td>Da</td>\n    </tr>\n    <tr>\n      <th>4</th>\n      <td>Ploaie</td>\n      <td>Mica</td>\n      <td>Normala</td>\n      <td>Absent</td>\n      <td>Da</td>\n    </tr>\n  </tbody>\n</table>\n</div>"
     },
     "execution_count": 44,
     "metadata": {},
     "output_type": "execute_result"
    }
   ],
   "source": [
    "# dataset in stored in a DataFrame\n",
    "df = pd.read_csv('data_vreme1.csv')\n",
    "df.head()"
   ],
   "metadata": {
    "collapsed": false,
    "ExecuteTime": {
     "end_time": "2024-03-07T08:39:57.944104Z",
     "start_time": "2024-03-07T08:39:57.933846Z"
    }
   },
   "id": "84f1d8a7272a364c",
   "execution_count": 44
  },
  {
   "cell_type": "code",
   "outputs": [
    {
     "name": "stdout",
     "output_type": "stream",
     "text": [
      "Index(['Starea vremii', 'Temperatura', 'Umiditate', 'Vant'], dtype='object')\n",
      "Joc\n"
     ]
    }
   ],
   "source": [
    "attributes = df.columns[0:4] # collection of attribute names\n",
    "className = df.columns[-1] # name of column with Da/Nu\n",
    "\n",
    "print(attributes)\n",
    "print(className)"
   ],
   "metadata": {
    "collapsed": false,
    "ExecuteTime": {
     "end_time": "2024-03-07T08:39:58.147973Z",
     "start_time": "2024-03-07T08:39:58.144121Z"
    }
   },
   "id": "9baf6febaeea8ea0",
   "execution_count": 45
  },
  {
   "cell_type": "code",
   "outputs": [
    {
     "name": "stdout",
     "output_type": "stream",
     "text": [
      "{'Nu', 'Da'}\n",
      "14\n"
     ]
    }
   ],
   "source": [
    "classLabels = set(df[className]) # the class labels are Da, Nu\n",
    "instanceCount = len(df)\n",
    "\n",
    "print(classLabels)\n",
    "print(instanceCount)"
   ],
   "metadata": {
    "collapsed": false,
    "ExecuteTime": {
     "end_time": "2024-03-07T08:39:58.249168Z",
     "start_time": "2024-03-07T08:39:58.245787Z"
    }
   },
   "id": "a55f148ce9ea3d9a",
   "execution_count": 46
  },
  {
   "cell_type": "code",
   "outputs": [
    {
     "name": "stdout",
     "output_type": "stream",
     "text": [
      "\n",
      "Attributes :\n",
      "Starea vremii\n",
      "Temperatura\n",
      "Umiditate\n",
      "Vant\n",
      "\n",
      "Values of Starea vremii :\n",
      "Soare\n",
      "Soare\n",
      "Innorat\n",
      "Ploaie\n",
      "Ploaie\n",
      "Ploaie\n",
      "Innorat\n",
      "Soare\n",
      "Soare\n",
      "Ploaie\n",
      "Soare\n",
      "Innorat\n",
      "Innorat\n",
      "Ploaie\n",
      "\n",
      "Classes : \n",
      "Nu\n",
      "Da\n",
      "\n",
      "Class labels in dataset : \n",
      "Nu\n",
      "Nu\n",
      "Da\n",
      "Da\n",
      "Da\n",
      "Nu\n",
      "Da\n",
      "Nu\n",
      "Da\n",
      "Da\n",
      "Da\n",
      "Da\n",
      "Da\n",
      "Nu\n"
     ]
    }
   ],
   "source": [
    "#iterate through attributes\n",
    "print('\\nAttributes :')\n",
    "for attribName in attributes:\n",
    "    print(attribName)\n",
    "\n",
    "#iterate through values of a certain attribute (a column of the dataset):\n",
    "attribName = attributes[0] # Starea vremii\n",
    "print('\\nValues of', attribName, ':')\n",
    "for val in df[attribName]:\n",
    "    print(val)\n",
    "\n",
    "#iterate through available class labels:\n",
    "print('\\nClasses : ')\n",
    "for label in classLabels:\n",
    "    print(label)\n",
    "\n",
    "#iterate through class labels from data set (last column)\n",
    "print('\\nClass labels in dataset : ')\n",
    "for label in df[className]:\n",
    "    print(label)\n",
    "\n",
    "# a new unclassified instance might look like this:\n",
    "testInstance = ['Soare', 'Mare', 'Normala', 'Absent']"
   ],
   "metadata": {
    "collapsed": false,
    "ExecuteTime": {
     "end_time": "2024-03-07T08:39:58.401864Z",
     "start_time": "2024-03-07T08:39:58.394116Z"
    }
   },
   "id": "c122ab99a7ffe861",
   "execution_count": 47
  },
  {
   "cell_type": "code",
   "outputs": [
    {
     "name": "stdout",
     "output_type": "stream",
     "text": [
      "{'Nu': 0.35714285714285715, 'Da': 0.6428571428571429}\n"
     ]
    }
   ],
   "source": [
    "# calc initial probs for Da/Nu\n",
    "prior_probabilities = {}\n",
    "for label in classLabels:\n",
    "    prior_probabilities[label] = df[df[className] == label].shape[0] / instanceCount\n",
    "    \n",
    "print(prior_probabilities)"
   ],
   "metadata": {
    "collapsed": false,
    "ExecuteTime": {
     "end_time": "2024-03-07T08:39:58.544775Z",
     "start_time": "2024-03-07T08:39:58.539689Z"
    }
   },
   "id": "53848bfa48f811a2",
   "execution_count": 48
  },
  {
   "cell_type": "code",
   "outputs": [],
   "source": [
    "# func to calc conditionals P(A|B)\n",
    "def calculate_conditional_probability_with_laplace(attribute, value, label):\n",
    "    # get df subset for the label\n",
    "    subset = df[df[className] == label]\n",
    "    \n",
    "    # count attr occurrences for the class\n",
    "    count_with_value = subset[subset[attribute] == value].shape[0]\n",
    "    \n",
    "    # total count of instances for hte given class\n",
    "    total_count = subset.shape[0]\n",
    "    \n",
    "    # With LaPlace correction\n",
    "    return (count_with_value + 1) / (total_count + len(df[attribute].unique()))"
   ],
   "metadata": {
    "collapsed": false,
    "ExecuteTime": {
     "end_time": "2024-03-07T08:39:58.910786Z",
     "start_time": "2024-03-07T08:39:58.905763Z"
    }
   },
   "id": "55719c1b56189e07",
   "execution_count": 49
  },
  {
   "cell_type": "code",
   "outputs": [],
   "source": [
    "# func to calc conditionals P(A|B)\n",
    "def calculate_conditional_probability_without_laplace(attribute, value, label):\n",
    "    # get df subset for the label\n",
    "    subset = df[df[className] == label]\n",
    "    \n",
    "    # count attr occurrences for the class\n",
    "    count_with_value = subset[subset[attribute] == value].shape[0]\n",
    "    \n",
    "    # total count of instances for hte given class\n",
    "    total_count = subset.shape[0]\n",
    "    \n",
    "    # Without LaPlace correction\n",
    "    return count_with_value / total_count"
   ],
   "metadata": {
    "collapsed": false,
    "ExecuteTime": {
     "end_time": "2024-03-07T08:39:59.472809Z",
     "start_time": "2024-03-07T08:39:59.469723Z"
    }
   },
   "id": "dabca599cbe9e963",
   "execution_count": 50
  },
  {
   "cell_type": "code",
   "outputs": [],
   "source": [
    "# func to calc overall prob for an instance\n",
    "def calculate_instance_probability(instance, use_laplace=True):\n",
    "    probabilities = {}\n",
    "    for label in classLabels:\n",
    "        # we first add the probabilities for the Da/Nu label\n",
    "        probabilities[label] = prior_probabilities[label]\n",
    "        for i, value in enumerate(instance):\n",
    "            # calc cond prob for each attr and multiply it with initial prob\n",
    "            if use_laplace:\n",
    "                probabilities[label] *= calculate_conditional_probability_with_laplace(attributes[i], value, label)\n",
    "            else:\n",
    "                probabilities[label] *= calculate_conditional_probability_without_laplace(attributes[i], value, label)\n",
    "\n",
    "    return probabilities"
   ],
   "metadata": {
    "collapsed": false,
    "ExecuteTime": {
     "end_time": "2024-03-07T08:39:59.822054Z",
     "start_time": "2024-03-07T08:39:59.816954Z"
    }
   },
   "id": "e2c9342787f66720",
   "execution_count": 51
  },
  {
   "cell_type": "code",
   "outputs": [
    {
     "name": "stdout",
     "output_type": "stream",
     "text": [
      "Probability for class 'Nu': 0.008199708454810493\n",
      "Probability for class 'Da': 0.016270661157024795\n",
      "\n",
      "Predicted class: Da\n"
     ]
    }
   ],
   "source": [
    "# predict a test instance\n",
    "testInstance = ['Soare', 'Mare', 'Normala', 'Absent']\n",
    "probabilities = calculate_instance_probability(testInstance)\n",
    "\n",
    "# Print probabilities for each class\n",
    "for label, probability in probabilities.items():\n",
    "    print(f\"Probability for class '{label}': {probability}\")\n",
    "    \n",
    "    # Choose class with maximum probability as the predicted class\n",
    "predicted_class = max(probabilities, key=probabilities.get)\n",
    "print(f\"\\nPredicted class: {predicted_class}\")"
   ],
   "metadata": {
    "collapsed": false,
    "ExecuteTime": {
     "end_time": "2024-03-07T08:40:00.620689Z",
     "start_time": "2024-03-07T08:40:00.605486Z"
    }
   },
   "id": "548ca0194e54d9a3",
   "execution_count": 52
  },
  {
   "cell_type": "code",
   "outputs": [],
   "source": [
    "################ console ui"
   ],
   "metadata": {
    "collapsed": false
   },
   "id": "5ebc108127e14a62",
   "execution_count": null
  },
  {
   "cell_type": "code",
   "outputs": [],
   "source": [
    "# Function to print probabilities for each class\n",
    "def print_probabilities(probabilities):\n",
    "    for label, probability in probabilities.items():\n",
    "        print(f\"Probability for class '{label}': {probability}\")"
   ],
   "metadata": {
    "collapsed": false
   },
   "id": "bdaacab26b8e7b75",
   "execution_count": null
  },
  {
   "cell_type": "code",
   "outputs": [],
   "source": [
    "# Function to choose the class with maximum probability\n",
    "def predict_class(probabilities):\n",
    "    return max(probabilities, key=probabilities.get)"
   ],
   "metadata": {
    "collapsed": false
   },
   "id": "9b25994432f96e0",
   "execution_count": null
  },
  {
   "cell_type": "code",
   "outputs": [],
   "source": [
    "while True:\n",
    "        testInstance = input(\"Enter the test instance separated by commas (e.g., Soare, Mare, Normala, Absent): \").strip().split(',')\n",
    "        use_laplace = input(\"Do you want to use Laplace correction? (yes/no): \").lower().strip()\n",
    "        \n",
    "        if use_laplace == 'yes':\n",
    "            probabilities = calculate_instance_probability(testInstance, use_laplace=True)\n",
    "        elif use_laplace == 'no':\n",
    "            probabilities = calculate_instance_probability(testInstance, use_laplace=False)\n",
    "        else:\n",
    "            print(\"Invalid input. Please enter 'yes' or 'no' for Laplace correction.\")\n",
    "            continue\n",
    "        \n",
    "        print(\"\\nProbabilities for each class:\")\n",
    "        print_probabilities(probabilities)\n",
    "        \n",
    "        predicted_class = predict_class(probabilities)\n",
    "        print(f\"\\nPredicted class: {predicted_class}\")\n",
    "        \n",
    "        continue_execution = input(\"Do you want to classify another instance? (yes/no): \").lower().strip()\n",
    "        if continue_execution != 'yes':\n",
    "            break"
   ],
   "metadata": {
    "collapsed": false
   },
   "id": "b2391a971cc0feb6",
   "execution_count": null
  },
  {
   "cell_type": "code",
   "outputs": [],
   "source": [],
   "metadata": {
    "collapsed": false
   },
   "id": "7da6a7421d6ff40c",
   "execution_count": null
  }
 ],
 "metadata": {
  "kernelspec": {
   "display_name": "Python 3",
   "language": "python",
   "name": "python3"
  },
  "language_info": {
   "codemirror_mode": {
    "name": "ipython",
    "version": 2
   },
   "file_extension": ".py",
   "mimetype": "text/x-python",
   "name": "python",
   "nbconvert_exporter": "python",
   "pygments_lexer": "ipython2",
   "version": "2.7.6"
  }
 },
 "nbformat": 4,
 "nbformat_minor": 5
}
