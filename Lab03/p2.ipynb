{
 "cells": [
  {
   "cell_type": "code",
   "execution_count": 1,
   "id": "initial_id",
   "metadata": {
    "collapsed": true,
    "ExecuteTime": {
     "end_time": "2024-03-07T09:19:02.963409Z",
     "start_time": "2024-03-07T09:19:02.695959Z"
    }
   },
   "outputs": [],
   "source": [
    "import pandas as pd\n",
    "import numpy as np"
   ]
  },
  {
   "cell_type": "code",
   "outputs": [
    {
     "data": {
      "text/plain": "  Starea vremii  Temperatura Umiditate     Vant Joc\n0         Soare           17      Mare   Absent  Nu\n1         Soare           15      Mare  Prezent  Nu\n2       Innorat           24      Mare   Absent  Da\n3        Ploaie           19      Mare   Absent  Da\n4        Ploaie           19   Normala   Absent  Da",
      "text/html": "<div>\n<style scoped>\n    .dataframe tbody tr th:only-of-type {\n        vertical-align: middle;\n    }\n\n    .dataframe tbody tr th {\n        vertical-align: top;\n    }\n\n    .dataframe thead th {\n        text-align: right;\n    }\n</style>\n<table border=\"1\" class=\"dataframe\">\n  <thead>\n    <tr style=\"text-align: right;\">\n      <th></th>\n      <th>Starea vremii</th>\n      <th>Temperatura</th>\n      <th>Umiditate</th>\n      <th>Vant</th>\n      <th>Joc</th>\n    </tr>\n  </thead>\n  <tbody>\n    <tr>\n      <th>0</th>\n      <td>Soare</td>\n      <td>17</td>\n      <td>Mare</td>\n      <td>Absent</td>\n      <td>Nu</td>\n    </tr>\n    <tr>\n      <th>1</th>\n      <td>Soare</td>\n      <td>15</td>\n      <td>Mare</td>\n      <td>Prezent</td>\n      <td>Nu</td>\n    </tr>\n    <tr>\n      <th>2</th>\n      <td>Innorat</td>\n      <td>24</td>\n      <td>Mare</td>\n      <td>Absent</td>\n      <td>Da</td>\n    </tr>\n    <tr>\n      <th>3</th>\n      <td>Ploaie</td>\n      <td>19</td>\n      <td>Mare</td>\n      <td>Absent</td>\n      <td>Da</td>\n    </tr>\n    <tr>\n      <th>4</th>\n      <td>Ploaie</td>\n      <td>19</td>\n      <td>Normala</td>\n      <td>Absent</td>\n      <td>Da</td>\n    </tr>\n  </tbody>\n</table>\n</div>"
     },
     "execution_count": 2,
     "metadata": {},
     "output_type": "execute_result"
    }
   ],
   "source": [
    "# Citim datele\n",
    "df = pd.read_csv('data_vreme2.csv')\n",
    "df.head()"
   ],
   "metadata": {
    "collapsed": false,
    "ExecuteTime": {
     "end_time": "2024-03-07T09:19:02.979066Z",
     "start_time": "2024-03-07T09:19:02.964889Z"
    }
   },
   "id": "c38c6369e5880d35",
   "execution_count": 2
  },
  {
   "cell_type": "code",
   "outputs": [
    {
     "name": "stdout",
     "output_type": "stream",
     "text": [
      "Index(['Starea vremii', 'Temperatura', 'Umiditate', 'Vant'], dtype='object')\n",
      "Joc\n"
     ]
    }
   ],
   "source": [
    "attributes = df.columns[0:-1] # collection of attribute names\n",
    "className = df.columns[-1] # name of column with Da/Nu\n",
    "\n",
    "print(attributes)\n",
    "print(className)"
   ],
   "metadata": {
    "collapsed": false,
    "ExecuteTime": {
     "end_time": "2024-03-07T09:19:02.984453Z",
     "start_time": "2024-03-07T09:19:02.980173Z"
    }
   },
   "id": "7757f5bbd22f6039",
   "execution_count": 3
  },
  {
   "cell_type": "code",
   "outputs": [
    {
     "name": "stdout",
     "output_type": "stream",
     "text": [
      "['Nu' 'Da']\n",
      "14\n"
     ]
    }
   ],
   "source": [
    "classLabels = df[className].unique()\n",
    "print(classLabels)\n",
    "\n",
    "instanceCount = len(df)\n",
    "print(instanceCount)"
   ],
   "metadata": {
    "collapsed": false,
    "ExecuteTime": {
     "end_time": "2024-03-07T09:19:02.989539Z",
     "start_time": "2024-03-07T09:19:02.985748Z"
    }
   },
   "id": "e7ee20e8f4cbe457",
   "execution_count": 4
  },
  {
   "cell_type": "code",
   "outputs": [],
   "source": [
    "# calc initial probs for Da/Nu\n",
    "prior_probabilities = {}\n",
    "for label in classLabels:\n",
    "    prior_probabilities[label] = df[df[className] == label].shape[0] / instanceCount"
   ],
   "metadata": {
    "collapsed": false,
    "ExecuteTime": {
     "end_time": "2024-03-07T09:19:02.995617Z",
     "start_time": "2024-03-07T09:19:02.991619Z"
    }
   },
   "id": "e87c0bcf99ae90bd",
   "execution_count": 5
  },
  {
   "cell_type": "code",
   "outputs": [],
   "source": [
    "# calc mean and std dev for temp attribute for each Da/Nu class\n",
    "temp_stats = {}\n",
    "for label in classLabels:\n",
    "    temp_stats[label] = {\n",
    "        'mean': df[df[className] == label]['Temperatura'].mean(),\n",
    "        'stdev': df[df[className] == label]['Temperatura'].std()\n",
    "    }"
   ],
   "metadata": {
    "collapsed": false,
    "ExecuteTime": {
     "end_time": "2024-03-07T09:19:03.003134Z",
     "start_time": "2024-03-07T09:19:02.997140Z"
    }
   },
   "id": "f6baca852fd8a310",
   "execution_count": 6
  },
  {
   "cell_type": "code",
   "outputs": [],
   "source": [
    "def calculate_probability_gaussian(x, mean, stdev):\n",
    "    exponent = np.exp(-((x - mean) ** 2) / (2 * stdev ** 2))\n",
    "    return (1 / (np.sqrt(2 * np.pi) * stdev)) * exponent"
   ],
   "metadata": {
    "collapsed": false,
    "ExecuteTime": {
     "end_time": "2024-03-07T09:19:03.008596Z",
     "start_time": "2024-03-07T09:19:03.004811Z"
    }
   },
   "id": "6ac685228eeb516a",
   "execution_count": 7
  },
  {
   "cell_type": "code",
   "outputs": [],
   "source": [
    "# func to calc conditionals P(A|B)\n",
    "def calculate_conditional_probability_with_laplace(attribute, value, label):\n",
    "    # get df subset for the label\n",
    "    subset = df[df[className] == label]\n",
    "    \n",
    "    # count attr occurrences for the class\n",
    "    count_with_value = subset[subset[attribute] == value].shape[0]\n",
    "    \n",
    "    # total count of instances for hte given class\n",
    "    total_count = subset.shape[0]\n",
    "    \n",
    "    # With LaPlace correction\n",
    "    return (count_with_value + 1) / (total_count + len(df[attribute].unique()))"
   ],
   "metadata": {
    "collapsed": false,
    "ExecuteTime": {
     "end_time": "2024-03-07T09:19:03.013739Z",
     "start_time": "2024-03-07T09:19:03.010099Z"
    }
   },
   "id": "90e2603dd53494bd",
   "execution_count": 8
  },
  {
   "cell_type": "code",
   "outputs": [],
   "source": [
    "# func to calc overall prob for an instance\n",
    "def calculate_instance_probability(instance, use_laplace=True):\n",
    "    probabilities = {}\n",
    "    for label in classLabels:\n",
    "        # Initialize probability with prior probability\n",
    "        probabilities[label] = prior_probabilities[label]\n",
    "        for i, value in enumerate(instance[:-1]): # Skip last attribute (class label)\n",
    "            if attributes[i] == 'Temperatura':\n",
    "                # Calculate conditional probability using Gaussian probability density function\n",
    "                mean = temp_stats[label]['mean']\n",
    "                stdev = temp_stats[label]['stdev']\n",
    "                probabilities[label] *= calculate_probability_gaussian(float(value), mean, stdev)\n",
    "            else:\n",
    "                # Calculate conditional probability for other attributes\n",
    "                probabilities[label] *= calculate_conditional_probability_with_laplace(attributes[i], value, label)\n",
    "    return probabilities"
   ],
   "metadata": {
    "collapsed": false,
    "ExecuteTime": {
     "end_time": "2024-03-07T09:19:03.018805Z",
     "start_time": "2024-03-07T09:19:03.015029Z"
    }
   },
   "id": "361a5d2ab36cbc01",
   "execution_count": 9
  },
  {
   "cell_type": "code",
   "outputs": [
    {
     "name": "stdout",
     "output_type": "stream",
     "text": [
      "Probability for class 'Nu': 0.00014523529899473586\n",
      "Probability for class 'Da': 0.0011851574710882381\n",
      "\n",
      "Predicted class: Da\n"
     ]
    }
   ],
   "source": [
    "# predict a test instance\n",
    "testInstance = ['Soare', '24', 'Mare', 'Prezent']\n",
    "probabilities = calculate_instance_probability(testInstance)\n",
    "\n",
    "# Print probabilities for each class\n",
    "for label, probability in probabilities.items():\n",
    "    print(f\"Probability for class '{label}': {probability}\")\n",
    "\n",
    "# Choose class with maximum probability as the predicted class\n",
    "predicted_class = max(probabilities, key=probabilities.get)\n",
    "print(f\"\\nPredicted class: {predicted_class}\")\n"
   ],
   "metadata": {
    "collapsed": false,
    "ExecuteTime": {
     "end_time": "2024-03-07T09:19:03.025887Z",
     "start_time": "2024-03-07T09:19:03.019892Z"
    }
   },
   "id": "f0aa5c468399fbba",
   "execution_count": 10
  },
  {
   "cell_type": "code",
   "outputs": [],
   "source": [],
   "metadata": {
    "collapsed": false,
    "ExecuteTime": {
     "end_time": "2024-03-07T09:19:03.029622Z",
     "start_time": "2024-03-07T09:19:03.027146Z"
    }
   },
   "id": "49a6a6ec35132fae",
   "execution_count": 10
  }
 ],
 "metadata": {
  "kernelspec": {
   "display_name": "Python 3",
   "language": "python",
   "name": "python3"
  },
  "language_info": {
   "codemirror_mode": {
    "name": "ipython",
    "version": 2
   },
   "file_extension": ".py",
   "mimetype": "text/x-python",
   "name": "python",
   "nbconvert_exporter": "python",
   "pygments_lexer": "ipython2",
   "version": "2.7.6"
  }
 },
 "nbformat": 4,
 "nbformat_minor": 5
}
