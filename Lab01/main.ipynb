{
 "cells": [
  {
   "cell_type": "code",
   "execution_count": null,
   "id": "initial_id",
   "metadata": {
    "collapsed": true
   },
   "outputs": [],
   "source": [
    "import numpy as np\n",
    "import matplotlib.pyplot as plt"
   ]
  },
  {
   "cell_type": "code",
   "execution_count": null,
   "id": "e8f796c8867cdcf3",
   "metadata": {},
   "outputs": [],
   "source": [
    "# for coloring points and clusters\n",
    "colorMap = plt.get_cmap('Accent')"
   ]
  },
  {
   "cell_type": "code",
   "execution_count": null,
   "id": "b140bbdad5e73de",
   "metadata": {},
   "outputs": [],
   "source": [
    "# read points from file\n",
    "filename = \"kmpoints_uniform.txt\"\n",
    "inFile = open(filename, 'r')"
   ]
  },
  {
   "cell_type": "code",
   "execution_count": null,
   "id": "91330fc333bc0609",
   "metadata": {},
   "outputs": [],
   "source": [
    "N = int(inFile.readline())\n",
    "points = np.zeros([N, 2])\n",
    "for i in range(N):\n",
    "    pt = inFile.readline()\n",
    "    pt = pt.split()\n",
    "    points[i, 0] = float(pt[0]) #x\n",
    "    points[i, 1] = float(pt[1]) #y"
   ]
  },
  {
   "cell_type": "code",
   "execution_count": null,
   "id": "cf0bbdb632943b18",
   "metadata": {},
   "outputs": [],
   "source": [
    "best_K = None\n",
    "best_silhouette_score = -1\n",
    "#kmeans iterations\n",
    "nrMaxIterations = 10"
   ]
  },
  {
   "cell_type": "code",
   "execution_count": null,
   "id": "3bcc9e33d31431a4",
   "metadata": {},
   "outputs": [],
   "source": [
    "# initialize distances from each point to corresponding centroid\n",
    "dist = np.zeros(N)\n",
    "\n",
    "# ids of clusters for each point: \n",
    "# clusterID[i] = -1 means point i doesn't belong to any cluster\n",
    "# clusterID[i] = j means point i belongs to cluster j, j=[0..K-1]\n",
    "clusterID = np.full(N, -1)"
   ]
  },
  {
   "cell_type": "code",
   "execution_count": null,
   "id": "399ee6597fcbb31",
   "metadata": {},
   "outputs": [],
   "source": [
    "def silhouette_score(map_points, cluster_ids):\n",
    "    silhouette_scores = []\n",
    "    for i in range(len(map_points)):\n",
    "        point = map_points[i]\n",
    "        cluster_id = cluster_ids[i]\n",
    "        \n",
    "        # Calculate average distance within the same cluster (a(i))\n",
    "        intra_cluster_distances = []\n",
    "        min_inter_cluster_distance = float('inf')\n",
    "        for j in range(len(map_points)):\n",
    "            if i != j and cluster_ids[j] == cluster_id:\n",
    "                intra_cluster_distances.append(np.linalg.norm(point - map_points[j]))\n",
    "            if cluster_ids[j] != cluster_id:\n",
    "                inter_cluster_distance = np.mean(np.linalg.norm(point - map_points[cluster_ids == cluster_ids[j]], axis=1))\n",
    "                if inter_cluster_distance < min_inter_cluster_distance:\n",
    "                    min_inter_cluster_distance = inter_cluster_distance\n",
    "                    \n",
    "        if intra_cluster_distances:\n",
    "            a_i = np.mean(intra_cluster_distances)\n",
    "        else:\n",
    "            a_i = -1\n",
    "        b_i = min_inter_cluster_distance\n",
    "        \n",
    "        # Calculate silhouette score for the point\n",
    "        s_i = (b_i - a_i) / max(a_i, b_i) if max(a_i, b_i) != 0 else 0\n",
    "        silhouette_scores.append(s_i)\n",
    "    \n",
    "    # Compute the mean silhouette score\n",
    "    mean_silhouette_score = np.mean(silhouette_scores)\n",
    "    \n",
    "    return mean_silhouette_score"
   ]
  },
  {
   "cell_type": "code",
   "execution_count": null,
   "id": "1f018cacb7723913",
   "metadata": {},
   "outputs": [],
   "source": [
    "# Loop through different values of K and compute silhouette score\n",
    "for k in range(2, 11):  # Try K from 2 to 10\n",
    "    centroids = np.zeros([k, 2])\n",
    "    clusterID = np.random.randint(0, k, N)\n",
    "    for iteration in range(nrMaxIterations):\n",
    "        # Compute new centroids\n",
    "        new_centroids = np.zeros((k, 2))\n",
    "        cluster_counts = np.zeros(k)\n",
    "\n",
    "        for i in range(N):\n",
    "            cluster_index = clusterID[i]\n",
    "            # sum points\n",
    "            new_centroids[cluster_index] += points[i]\n",
    "            # num of groups\n",
    "            cluster_counts[cluster_index] += 1\n",
    "        for j in range(k):\n",
    "            if cluster_counts[j] > 0:\n",
    "                # calculate average\n",
    "                new_centroids[j] /= cluster_counts[j]\n",
    "\n",
    "        # Break when centroid positions don't change significantly from previous values\n",
    "        if np.allclose(centroids, new_centroids):\n",
    "            break\n",
    "        centroids = new_centroids.copy()\n",
    "\n",
    "        # Assign points to clusters\n",
    "        for i in range(N):\n",
    "            distances = np.linalg.norm(points[i] - centroids, axis=1)\n",
    "            clusterID[i] = np.argmin(distances)\n",
    "\n",
    "    # Calculate silhouette score\n",
    "    silhouette_avg = silhouette_score(points, clusterID)\n",
    "    print(f\"For K = {k}, Silhouette Score = {silhouette_avg}\")\n",
    "    \n",
    "    # Update best K if necessary\n",
    "    if silhouette_avg > best_silhouette_score:\n",
    "        best_silhouette_score = silhouette_avg\n",
    "        best_K = k\n",
    "\n",
    "print(f\"The best value of K is: {best_K}\")"
   ]
  },
  {
   "cell_type": "code",
   "execution_count": null,
   "id": "8d9a184918ce8461",
   "metadata": {},
   "outputs": [],
   "source": [
    "# randomly assign points to clusters\n",
    "clusterID = np.random.randint(0, best_K, N)\n",
    "\n",
    "centroids = np.zeros([best_K, 2]) # positions of centroids"
   ]
  },
  {
   "cell_type": "code",
   "execution_count": null,
   "id": "6a0016be26e451",
   "metadata": {},
   "outputs": [],
   "source": [
    "# generate random colors, one for each cluster\n",
    "clusterColor = colorMap(np.array(range(best_K))/best_K)"
   ]
  },
  {
   "cell_type": "code",
   "execution_count": null,
   "id": "efe3997103697818",
   "metadata": {},
   "outputs": [],
   "source": [
    "for iteration in range(nrMaxIterations):\n",
    "    # compute new centroids\n",
    "    new_centroids = np.zeros((best_K, 2))\n",
    "    cluster_counts = np.zeros(best_K)\n",
    "\n",
    "    for i in range(N):\n",
    "        cluster_index = clusterID[i]\n",
    "        # sum points\n",
    "        new_centroids[cluster_index] += points[i]\n",
    "        # num of groups\n",
    "        cluster_counts[cluster_index] += 1\n",
    "    for j in range(best_K):\n",
    "        if cluster_counts[j] > 0:\n",
    "            # calculate average\n",
    "            new_centroids[j] /= cluster_counts[j]\n",
    "\n",
    "    # break when centroid positions don't change significantly from previous values\n",
    "    if np.allclose(centroids, new_centroids):\n",
    "        break\n",
    "    centroids = new_centroids.copy()\n",
    "\n",
    "    # assign points to clusters\n",
    "    for i in range(N):\n",
    "        distances = np.linalg.norm(points[i] - centroids, axis=1)\n",
    "        clusterID[i] = np.argmin(distances)"
   ]
  },
  {
   "cell_type": "code",
   "execution_count": null,
   "id": "5ab1d1b930254226",
   "metadata": {},
   "outputs": [],
   "source": [
    "# plot points, centroids\n",
    "pointColors = np.array(clusterColor[clusterID])\n",
    "plt.scatter(points[:,0], points[:,1], color = pointColors, marker = 'o', s = 10)\n",
    "centroidColors = np.array(clusterColor[range(best_K)])\n",
    "plt.scatter(centroids[:, 0], centroids[:, 1], color = centroidColors, marker = 'x', s = 100)\n",
    "plt.show() "
   ]
  }
 ],
 "metadata": {
  "kernelspec": {
   "display_name": "Python 3 (ipykernel)",
   "language": "python",
   "name": "python3"
  },
  "language_info": {
   "codemirror_mode": {
    "name": "ipython",
    "version": 3
   },
   "file_extension": ".py",
   "mimetype": "text/x-python",
   "name": "python",
   "nbconvert_exporter": "python",
   "pygments_lexer": "ipython3",
   "version": "3.10.12"
  }
 },
 "nbformat": 4,
 "nbformat_minor": 5
}
