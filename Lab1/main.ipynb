{
 "cells": [
  {
   "cell_type": "code",
   "execution_count": 2,
   "id": "initial_id",
   "metadata": {
    "collapsed": true,
    "ExecuteTime": {
     "end_time": "2024-02-22T20:22:14.926140795Z",
     "start_time": "2024-02-22T20:22:14.679213104Z"
    }
   },
   "outputs": [],
   "source": [
    "import numpy as np\n",
    "import matplotlib.pyplot as plt"
   ]
  },
  {
   "cell_type": "code",
   "outputs": [],
   "source": [
    "# for coloring points and clusters\n",
    "colorMap = plt.get_cmap('Accent')"
   ],
   "metadata": {
    "collapsed": false,
    "ExecuteTime": {
     "end_time": "2024-02-22T20:22:16.025050286Z",
     "start_time": "2024-02-22T20:22:16.021651797Z"
    }
   },
   "id": "e8f796c8867cdcf3",
   "execution_count": 3
  },
  {
   "cell_type": "code",
   "outputs": [],
   "source": [
    "# read points from file\n",
    "filename = \"kmpoints_uniform.txt\"\n",
    "inFile = open(filename, 'r')"
   ],
   "metadata": {
    "collapsed": false,
    "ExecuteTime": {
     "end_time": "2024-02-22T20:25:11.213656679Z",
     "start_time": "2024-02-22T20:25:11.205381377Z"
    }
   },
   "id": "b140bbdad5e73de",
   "execution_count": 23
  },
  {
   "cell_type": "code",
   "outputs": [],
   "source": [
    "N = int(inFile.readline())\n",
    "points = np.zeros([N, 2])\n",
    "for i in range(N):\n",
    "    pt = inFile.readline()\n",
    "    pt = pt.split()\n",
    "    points[i, 0] = float(pt[0]) #x\n",
    "    points[i, 1] = float(pt[1]) #y"
   ],
   "metadata": {
    "collapsed": false,
    "ExecuteTime": {
     "end_time": "2024-02-22T20:25:11.544391310Z",
     "start_time": "2024-02-22T20:25:11.526103435Z"
    }
   },
   "id": "91330fc333bc0609",
   "execution_count": 24
  },
  {
   "cell_type": "code",
   "outputs": [],
   "source": [
    "best_K = None\n",
    "best_silhouette_score = -1\n",
    "#kmeans iterations\n",
    "nrMaxIterations = 10"
   ],
   "metadata": {
    "collapsed": false,
    "ExecuteTime": {
     "end_time": "2024-02-22T20:25:11.841283641Z",
     "start_time": "2024-02-22T20:25:11.822767501Z"
    }
   },
   "id": "cf0bbdb632943b18",
   "execution_count": 25
  },
  {
   "cell_type": "code",
   "outputs": [],
   "source": [
    "# initialize distances from each point to corresponding centroid\n",
    "dist = np.zeros(N)\n",
    "\n",
    "# ids of clusters for each point: \n",
    "# clusterID[i] = -1 means point i doesn't belong to any cluster\n",
    "# clusterID[i] = j means point i belongs to cluster j, j=[0..K-1]\n",
    "clusterID = np.full(N, -1)"
   ],
   "metadata": {
    "collapsed": false,
    "ExecuteTime": {
     "end_time": "2024-02-22T20:25:12.189311036Z",
     "start_time": "2024-02-22T20:25:12.143095325Z"
    }
   },
   "id": "3bcc9e33d31431a4",
   "execution_count": 26
  },
  {
   "cell_type": "code",
   "outputs": [],
   "source": [
    "def silhouette_score(map_points, cluster_ids):\n",
    "    silhouette_scores = []\n",
    "    for i in range(len(map_points)):\n",
    "        point = map_points[i]\n",
    "        cluster_id = cluster_ids[i]\n",
    "        \n",
    "        # Calculate average distance within the same cluster (a(i))\n",
    "        intra_cluster_distances = []\n",
    "        min_inter_cluster_distance = float('inf')\n",
    "        for j in range(len(map_points)):\n",
    "            if i != j and cluster_ids[j] == cluster_id:\n",
    "                intra_cluster_distances.append(np.linalg.norm(point - map_points[j]))\n",
    "            if cluster_ids[j] != cluster_id:\n",
    "                inter_cluster_distance = np.mean(np.linalg.norm(point - map_points[cluster_ids == cluster_ids[j]], axis=1))\n",
    "                if inter_cluster_distance < min_inter_cluster_distance:\n",
    "                    min_inter_cluster_distance = inter_cluster_distance\n",
    "                    \n",
    "        if intra_cluster_distances:\n",
    "            a_i = np.mean(intra_cluster_distances)\n",
    "        else:\n",
    "            a_i = -1\n",
    "        b_i = min_inter_cluster_distance\n",
    "        \n",
    "        # Calculate silhouette score for the point\n",
    "        s_i = (b_i - a_i) / max(a_i, b_i) if max(a_i, b_i) != 0 else 0\n",
    "        silhouette_scores.append(s_i)\n",
    "    \n",
    "    # Compute the mean silhouette score\n",
    "    mean_silhouette_score = np.mean(silhouette_scores)\n",
    "    \n",
    "    return mean_silhouette_score"
   ],
   "metadata": {
    "collapsed": false,
    "ExecuteTime": {
     "end_time": "2024-02-22T20:25:12.581134962Z",
     "start_time": "2024-02-22T20:25:12.564545513Z"
    }
   },
   "id": "399ee6597fcbb31",
   "execution_count": 27
  },
  {
   "cell_type": "code",
   "outputs": [
    {
     "name": "stdout",
     "output_type": "stream",
     "text": [
      "For K = 2, Silhouette Score = 0.37547026970311576\n",
      "For K = 3, Silhouette Score = 0.3802789496186633\n",
      "For K = 4, Silhouette Score = 0.4282786643973278\n",
      "For K = 5, Silhouette Score = 0.3840092649481604\n",
      "For K = 6, Silhouette Score = 0.35302675103701203\n",
      "For K = 7, Silhouette Score = 0.3828415344061581\n",
      "For K = 8, Silhouette Score = 0.35721480889437573\n",
      "For K = 9, Silhouette Score = 0.3696761193802836\n",
      "For K = 10, Silhouette Score = 0.35485735013844516\n",
      "The best value of K is: 4\n"
     ]
    }
   ],
   "source": [
    "# Loop through different values of K and compute silhouette score\n",
    "for k in range(2, 11):  # Try K from 2 to 10\n",
    "    centroids = np.zeros([k, 2])\n",
    "    clusterID = np.random.randint(0, k, N)\n",
    "    for iteration in range(nrMaxIterations):\n",
    "        # Compute new centroids\n",
    "        new_centroids = np.zeros((k, 2))\n",
    "        cluster_counts = np.zeros(k)\n",
    "\n",
    "        for i in range(N):\n",
    "            cluster_index = clusterID[i]\n",
    "            # sum points\n",
    "            new_centroids[cluster_index] += points[i]\n",
    "            # num of groups\n",
    "            cluster_counts[cluster_index] += 1\n",
    "        for j in range(k):\n",
    "            if cluster_counts[j] > 0:\n",
    "                # calculate average\n",
    "                new_centroids[j] /= cluster_counts[j]\n",
    "\n",
    "        # Break when centroid positions don't change significantly from previous values\n",
    "        if np.allclose(centroids, new_centroids):\n",
    "            break\n",
    "        centroids = new_centroids.copy()\n",
    "\n",
    "        # Assign points to clusters\n",
    "        for i in range(N):\n",
    "            distances = np.linalg.norm(points[i] - centroids, axis=1)\n",
    "            clusterID[i] = np.argmin(distances)\n",
    "\n",
    "    # Calculate silhouette score\n",
    "    silhouette_avg = silhouette_score(points, clusterID)\n",
    "    print(f\"For K = {k}, Silhouette Score = {silhouette_avg}\")\n",
    "    \n",
    "    # Update best K if necessary\n",
    "    if silhouette_avg > best_silhouette_score:\n",
    "        best_silhouette_score = silhouette_avg\n",
    "        best_K = k\n",
    "\n",
    "print(f\"The best value of K is: {best_K}\")"
   ],
   "metadata": {
    "collapsed": false,
    "ExecuteTime": {
     "end_time": "2024-02-22T20:25:14.364791472Z",
     "start_time": "2024-02-22T20:25:12.984787004Z"
    }
   },
   "id": "1f018cacb7723913",
   "execution_count": 28
  },
  {
   "cell_type": "code",
   "outputs": [],
   "source": [
    "# randomly assign points to clusters\n",
    "clusterID = np.random.randint(0, best_K, N)\n",
    "\n",
    "centroids = np.zeros([best_K, 2]) # positions of centroids"
   ],
   "metadata": {
    "collapsed": false,
    "ExecuteTime": {
     "end_time": "2024-02-22T20:29:25.965232564Z",
     "start_time": "2024-02-22T20:29:25.921474383Z"
    }
   },
   "id": "8d9a184918ce8461",
   "execution_count": 34
  },
  {
   "cell_type": "code",
   "outputs": [],
   "source": [
    "# generate random colors, one for each cluster\n",
    "clusterColor = colorMap(np.array(range(best_K))/best_K)"
   ],
   "metadata": {
    "collapsed": false,
    "ExecuteTime": {
     "end_time": "2024-02-22T20:29:26.546309785Z",
     "start_time": "2024-02-22T20:29:26.539467424Z"
    }
   },
   "id": "6a0016be26e451",
   "execution_count": 35
  },
  {
   "cell_type": "code",
   "outputs": [],
   "source": [
    "for iteration in range(nrMaxIterations):\n",
    "    # compute new centroids\n",
    "    new_centroids = np.zeros((best_K, 2))\n",
    "    cluster_counts = np.zeros(best_K)\n",
    "\n",
    "    for i in range(N):\n",
    "        cluster_index = clusterID[i]\n",
    "        # sum points\n",
    "        new_centroids[cluster_index] += points[i]\n",
    "        # num of groups\n",
    "        cluster_counts[cluster_index] += 1\n",
    "    for j in range(best_K):\n",
    "        if cluster_counts[j] > 0:\n",
    "            # calculate average\n",
    "            new_centroids[j] /= cluster_counts[j]\n",
    "\n",
    "    # break when centroid positions don't change significantly from previous values\n",
    "    if np.allclose(centroids, new_centroids):\n",
    "        break\n",
    "    centroids = new_centroids.copy()\n",
    "\n",
    "    # assign points to clusters\n",
    "    for i in range(N):\n",
    "        distances = np.linalg.norm(points[i] - centroids, axis=1)\n",
    "        clusterID[i] = np.argmin(distances)"
   ],
   "metadata": {
    "collapsed": false,
    "ExecuteTime": {
     "end_time": "2024-02-22T20:29:26.983482149Z",
     "start_time": "2024-02-22T20:29:26.968297290Z"
    }
   },
   "id": "efe3997103697818",
   "execution_count": 36
  },
  {
   "cell_type": "code",
   "outputs": [
    {
     "data": {
      "text/plain": "<Figure size 640x480 with 1 Axes>",
      "image/png": "[encoded data removed]"
     },
     "metadata": {},
     "output_type": "display_data"
    }
   ],
   "source": [
    "# plot points, centroids\n",
    "pointColors = np.array(clusterColor[clusterID])\n",
    "plt.scatter(points[:,0], points[:,1], color = pointColors, marker = 'o', s = 10)\n",
    "centroidColors = np.array(clusterColor[range(best_K)])\n",
    "plt.scatter(centroids[:, 0], centroids[:, 1], color = centroidColors, marker = 'x', s = 100)\n",
    "plt.show() "
   ],
   "metadata": {
    "collapsed": false,
    "ExecuteTime": {
     "end_time": "2024-02-22T20:29:27.783660786Z",
     "start_time": "2024-02-22T20:29:27.680380062Z"
    }
   },
   "id": "5ab1d1b930254226",
   "execution_count": 37
  },
  {
   "cell_type": "code",
   "outputs": [],
   "source": [],
   "metadata": {
    "collapsed": false
   },
   "id": "5bcb08212f94456a"
  }
 ],
 "metadata": {
  "kernelspec": {
   "display_name": "Python 3",
   "language": "python",
   "name": "python3"
  },
  "language_info": {
   "codemirror_mode": {
    "name": "ipython",
    "version": 2
   },
   "file_extension": ".py",
   "mimetype": "text/x-python",
   "name": "python",
   "nbconvert_exporter": "python",
   "pygments_lexer": "ipython2",
   "version": "2.7.6"
  }
 },
 "nbformat": 4,
 "nbformat_minor": 5
}
